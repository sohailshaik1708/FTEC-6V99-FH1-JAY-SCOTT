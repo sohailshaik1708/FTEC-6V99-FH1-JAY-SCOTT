{
  "nbformat": 4,
  "nbformat_minor": 0,
  "metadata": {
    "colab": {
      "provenance": []
    },
    "kernelspec": {
      "name": "python3",
      "display_name": "Python 3"
    },
    "language_info": {
      "name": "python"
    }
  },
  "cells": [
    {
      "cell_type": "code",
      "execution_count": null,
      "metadata": {
        "colab": {
          "base_uri": "https://localhost:8080/"
        },
        "id": "L09jYqBoNKqZ",
        "outputId": "e45071b2-4c1e-424a-c193-e9087a5442cf"
      },
      "outputs": [
        {
          "output_type": "stream",
          "name": "stdout",
          "text": [
            "Please enter the present value: 26303.85\n",
            "Please enter the future value: \n",
            "please enter the discounting rate in percentage: 5\n",
            "Please enter the compounding rate example: Enter 1 for yearly, 2 for half yearly 4 for quarterly and so on..: 1\n",
            "please enter the time period to compute: 10\n",
            "The future value is:  42846.2\n"
          ]
        }
      ],
      "source": [
        "\"\"\"\n",
        "Created on Mon Aug 22 13:31:17 2022\n",
        "\n",
        "@author: Sohail Shaik\n",
        "\"\"\"\n",
        "\n",
        "import sys                # import statement for sys to use functions like exit, quit etc\n",
        "import numpy as np        # numpy to compute math operations\n",
        "\n",
        "try:\n",
        "    tvm_list = []   #empty list to store time value money problem variables\n",
        "    # present value is entered by the user, it is stripped left and right for any spaces and ',' is replaced with empty string \n",
        "    # if the value is not entered then it is defaulted with '0'\n",
        "    present_value = float(input('Please enter the present value: ').strip().replace(',','') or 0)\n",
        "    \n",
        "    # the values are appended to a list for further computations\n",
        "    tvm_list.append(present_value)\n",
        "    \n",
        "    # future value is entered by the user, it is stripped left and right for any spaces and ',' is replaced with empty string \n",
        "    # if the value is not entered then it is defaulted with '0'\n",
        "    future_value = float(input('Please enter the future value: ').strip().replace(',','') or 0)\n",
        "    # the values are appended to a list for further computations\n",
        "    tvm_list.append(future_value)\n",
        "    # discount rate is entered by the user, it is stripped left and right for any spaces and '%' is replaced with empty string \n",
        "    # if the value is not entered then it is defaulted with '0'\n",
        "    discount_rate = float(input('please enter the discounting rate in percentage: ').strip().replace('%','') or 0)\n",
        "    # the values are appended to a list for further computations\n",
        "    tvm_list.append(discount_rate)\n",
        "    # compounding rate is entered by the user, it is stripped left and right for any spaces and ',' is replaced with empty string \n",
        "    # if the value is not entered then it is defaulted with '0'\n",
        "    compounding = float(input('Please enter the compounding rate example: Enter 1 for yearly, 2 for half yearly 4 for quarterly and so on..: ').strip().replace(',','') or 0)\n",
        "    # the values are appended to a list for further computations\n",
        "    tvm_list.append(compounding)\n",
        "    # time period is entered by the user, it is stripped left and right for any spaces and ',' is replaced with empty string \n",
        "    # if the value is not entered then it is defaulted with '0'\n",
        "    time_period = float(input('please enter the time period to compute: ').strip().replace(',','') or 0)\n",
        "    # the values are appended to a list for further computations\n",
        "    tvm_list.append(time_period)\n",
        "    \n",
        "    #This is a lambda function which counts the number of unknows in the output, if there are more than\n",
        "    # one missing inputs then the program will exit and tell the user to enter the input from the begining\n",
        "    null_counts = lambda x : x.count(0)\n",
        "    count = null_counts(tvm_list)\n",
        "    #if 2 or more missing values then exit\n",
        "    if count >= 2:\n",
        "        print('Please enter atleast four non zero integer/float values in the input, PROGRAM EXIT!!!')\n",
        "        sys.exit()\n",
        "        \n",
        "    # In this if condition loop we are calculating present value, given all other parameters\n",
        "    if present_value == 0.0:\n",
        "        # Formula for present value \n",
        "        # PV = Future value/(1+ discounting rate/compounding)** (compounding * time period)\n",
        "        discounting_factor = (1 + ((discount_rate * 0.01)/compounding)) # multiplying discount rate with  0.01 to convert % in decimals      \n",
        "        present_value = future_value/(discounting_factor ** (compounding * time_period))\n",
        "        print(\"The present value is: \", round(present_value,2)) #rounding the present value to 2 decimals\n",
        "     # In this if condition loop we are calculating present value, given all other parameters\n",
        "    elif future_value == 0.0:\n",
        "        # Formula for future value \n",
        "        # FV = present value * (1 + discounting rate/compounding) ** (compounding * time)\n",
        "        # ** represents exponent in python.\n",
        "        discounting_factor = (1 + ((discount_rate * 0.01)/compounding)) # multiplying discount rate with  0.01 to convert % in decimals     \n",
        "        future_value = present_value * (discounting_factor) ** (compounding * time_period)\n",
        "        print(\"The future value is: \", round(future_value,2))\n",
        "    elif discount_rate == 0.0:\n",
        "        # Formula for discount rate \n",
        "        # r (discount_rate) = (compounding * (((future_value/present_value) ** 1/(compounding * time_period)) - 1))\n",
        "        var_time_factor = 1/(compounding * time_period) # stored this in another variable so that equation looks aesthetic\n",
        "        discount_rate = (compounding * (((future_value/present_value) ** var_time_factor) - 1))\n",
        "        print(f\"The discount rate is: {round(discount_rate * 100,2)}%\" ) # multiplied by 100 because to convert it into % from decimals and then round it by 2\n",
        "        # Used python f strings to show the value and % symbol\n",
        "    elif time_period == 0.0:\n",
        "        # Formula for time period\n",
        "        # t (time period) =  log(future_value/present_value)/ compounding * (log(1 + (discount_rate * 0.01)/compounding))\n",
        "        var_numerator = np.log(future_value/present_value) # using numpy package for logarithm\n",
        "        var_denomenator = compounding * (np.log(1 + (discount_rate * 0.01)/compounding))\n",
        "        time_period = var_numerator/var_denomenator # divided both the equations\n",
        "        print(\"The time period is: \", round(time_period,2)) #rouding the time period to 2 decimal places\n",
        "    else:\n",
        "        print('It is very difficult to calculate compounding period') # finding out the equation for compounding frequency is difficult, \n",
        "        # as it requires substituting 'm' values until both sides of the equations are approximately equal inshort the answer works on approximations.\n",
        "except ValueError as e:\n",
        "    print('please enter valid number data types in the input ', e)\n",
        "except Exception :\n",
        "    exc_type, fname, exc_tb = sys.exc_info()\n",
        "    print(exc_type, \"Line number: \"+ str(exc_tb.tb_lineno))\n"
      ]
    },
    {
      "cell_type": "code",
      "source": [
        "26303.85"
      ],
      "metadata": {
        "id": "lC9D14PGNM7u"
      },
      "execution_count": null,
      "outputs": []
    }
  ]
}